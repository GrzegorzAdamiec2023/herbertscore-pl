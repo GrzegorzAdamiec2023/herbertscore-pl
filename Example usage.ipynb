{
 "cells": [
  {
   "metadata": {},
   "cell_type": "markdown",
   "source": [
    "# Introduction\n",
    "\n",
    "This notebook demonstrates the functionalities of a custom BERTScore implementation using the **HerBERT** model as an example. In practice, any Polish language model (or other languages, if paired with an appropriate dataset) can be used. The main features include:\n",
    "\n",
    "- **Sentence similarity scoring**: Compute BERTScore metrics (accuracy, recall, F1) between pairs of sentences.\n",
    "- **IDF weighting**: Support for term importance through precomputed or dynamically calculated Inverse Document Frequency (IDF) scores.\n",
    "- **Baseline rescaling**: Efficient computation and application of baseline values (`b_acc` and `b_recall`) to normalize scores across different datasets.\n",
    "- **Persistent storage**: Easy saving and loading of precomputed IDF and baseline values to avoid repeated, time-consuming calculations.\n",
    "- **Flexible input handling**: Compatible with individual sentence pairs, batches of sentences, and large datasets.\n",
    "\n",
    "This notebook will guide you through:\n",
    "\n",
    "1. Initializing the model and tokenizer.\n",
    "2. Generating or loading IDF and baseline values.\n",
    "3. Computing BERTScore metrics for sentences or datasets.\n",
    "4. Saving and reusing precomputed parameters to speed up future evaluations.\n"
   ],
   "id": "54ca8f55cd68e4b3"
  },
  {
   "cell_type": "code",
   "id": "initial_id",
   "metadata": {
    "collapsed": true,
    "ExecuteTime": {
     "end_time": "2025-08-17T00:30:09.676752Z",
     "start_time": "2025-08-17T00:30:02.022429Z"
    }
   },
   "source": [
    "from herBERTscore.HerBERTScore import HerBERTScore\n",
    "\n",
    "\"\"\"\n",
    "Note: The base dataset used for training and computing IDF in HerBERTScore\n",
    "comes from the National Corpus of Polish (NKJP), available at:\n",
    "https://nkjp.pl/\n",
    "\n",
    "This corpus covers the entirety of publicly available Polish texts in NKJP\n",
    "and serves as the basis for computing IDF for our model. Therefore, the IDF\n",
    "values are specific to the Polish language and to the dataset provided in this repository.\n",
    "\n",
    "Custom dataset usage note:\n",
    "--------------------------\n",
    "HerBERTScore computes IDF and baseline metrics from a corpus of text. If you want to use your own dataset:\n",
    "1. Save it as a plain UTF-8 text file (e.g., \"my_corpus.txt\").\n",
    "2. Include sentences or paragraphs in natural language. No JSON or CSV formatting is required.\n",
    "3. Keep it simple: raw text is sufficient; tokenization is handled internally.\n",
    "4. Longer texts are fine; HerBERTScore will batch them efficiently for IDF computation.\n",
    "5. Proper sentence boundaries improve metric quality, but the format is flexible.\n",
    "\"\"\"\n",
    "\n",
    "# Initialize HerBERTScore with a text file path\n",
    "hbs = HerBERTScore(file_path_to_texts=\"data/NKJP_test_texts.txt\")\n",
    "\n",
    "# Make idf map based on our dataset\n",
    "hbs.make_idf()\n"
   ],
   "outputs": [
    {
     "name": "stderr",
     "output_type": "stream",
     "text": [
      "C:\\Users\\Grzegorz\\PycharmProjects\\Interpreters\\.venv\\Lib\\site-packages\\tqdm\\auto.py:21: TqdmWarning: IProgress not found. Please update jupyter and ipywidgets. See https://ipywidgets.readthedocs.io/en/stable/user_install.html\n",
      "  from .autonotebook import tqdm as notebook_tqdm\n"
     ]
    },
    {
     "name": "stdout",
     "output_type": "stream",
     "text": [
      "New idf has been set.\n"
     ]
    }
   ],
   "execution_count": 1
  },
  {
   "metadata": {},
   "cell_type": "markdown",
   "source": [
    "Now we compute the **baseline rescaling factor `b`**.\n",
    "This ensures that scores are normalized between `[0, 1]`, making them easier to interpret.\n",
    "\n",
    "Unlike the original BERTScore paper (which uses random sentence pairs from Common Crawl),\n",
    "here we approximate `b` using all possible sentence pairs from our dataset.\n",
    "\n",
    "⚖️ **Trade-off:**\n",
    "- ✅ Faster and deterministic.\n",
    "- ❌ Slightly less universal than the paper's baseline.\n",
    "\n",
    "💡 **Tip:** If you encounter *out-of-memory (OOM)* errors on GPU during this step,\n",
    "try reducing the `batch_size` parameter (default: `batch_size=100`)"
   ],
   "id": "22dc6e357d88b061"
  },
  {
   "metadata": {
    "ExecuteTime": {
     "end_time": "2025-08-17T00:30:21.350402Z",
     "start_time": "2025-08-17T00:30:09.765968Z"
    }
   },
   "cell_type": "code",
   "source": "hbs.compute_b(batch_size = 100)",
   "id": "dd7cbaab4259bd5e",
   "outputs": [
    {
     "name": "stderr",
     "output_type": "stream",
     "text": [
      "Computing baseline: 100%|██████████| 121/121 [00:11<00:00, 10.50it/s]"
     ]
    },
    {
     "name": "stdout",
     "output_type": "stream",
     "text": [
      "New baseline has been set.\n"
     ]
    },
    {
     "name": "stderr",
     "output_type": "stream",
     "text": [
      "\n"
     ]
    }
   ],
   "execution_count": 2
  },
  {
   "metadata": {},
   "cell_type": "markdown",
   "source": [
    "Here we compare pairs of sentences.\n",
    "HerBERTScore computes three similarity metrics:\n",
    "- **Accuracy** (precision-like score: how much of candidate matches reference).\n",
    "- **Recall** (recall-like score: how much of reference is covered by candidate).\n",
    "- **F1** (harmonic mean of the above)."
   ],
   "id": "c2133361d1b794d3"
  },
  {
   "metadata": {
    "ExecuteTime": {
     "end_time": "2025-08-17T00:30:38.508453Z",
     "start_time": "2025-08-17T00:30:38.414149Z"
    }
   },
   "cell_type": "code",
   "source": [
    "candidate = [\n",
    "    \"Ala ma kota\",\n",
    "    \"Kotki są urocze\",\n",
    "    \"Być albo nie być, oto jest pytanie\",\n",
    "    \"Pogoda dzisiaj jest piękna\",\n",
    "    \"Lubię czytać książki w wolnym czasie\",\n",
    "    \"Programowanie w Pythonie jest przyjemne\",\n",
    "    \"Samochody elektryczne stają się coraz popularniejsze\",\n",
    "    \"Spacer po lesie uspokaja umysł\",\n",
    "    \"Kawa o poranku dodaje energii\",\n",
    "    \"Malarstwo to wyraz emocji artysty\"\n",
    "]\n",
    "\n",
    "reference = [\n",
    "    \"Ala ma kocurka\",\n",
    "    \"Kotki są kochane\",\n",
    "    \"Testujemy herBERTScore\",\n",
    "    \"Czy istnieje życie po śmierci?\",\n",
    "    \"Dzisiejsza pogoda jest słoneczna i ciepła\",\n",
    "    \"W wolnym czasie często czytam powieści\",\n",
    "    \"Python jest świetny do szybkiego prototypowania\",\n",
    "    \"Elektryczne auta zyskują popularność na świecie\",\n",
    "    \"Spacerowanie w lesie poprawia nastrój\",\n",
    "    \"Poranna kawa pomaga się obudzić\",\n",
    "    \"Sztuka malarska oddaje uczucia twórcy\"\n",
    "]\n",
    "\n",
    "x = hbs(candidate, reference)\n",
    "i, j = 0, 0\n",
    "print(f'Sentence: \"{candidate[i]}\" and sentence: \"{reference[j]}\" accuracy = {x[\"accuracy\"][i, j]}, recall = {x[\"recall\"][i, j]}, and f1_score = {x[\"f1\"][i, j]}')"
   ],
   "id": "ba704ec92a3ffed",
   "outputs": [
    {
     "name": "stdout",
     "output_type": "stream",
     "text": [
      "Sentence: \"Ala ma kota\" and sentence: \"Ala ma kocurka\" accuracy = 0.4337066947040838, recall = 0.764933061538449, and f1_score = 0.5535551245683671\n"
     ]
    }
   ],
   "execution_count": 4
  },
  {
   "metadata": {},
   "cell_type": "markdown",
   "source": [
    "Computing IDF and baseline can take a long time.\n",
    "For efficiency, we provide methods to **save** and **reload** them later.\n",
    "\n",
    "This makes experiments reproducible and avoids recomputation."
   ],
   "id": "e4964ef18960a456"
  },
  {
   "metadata": {
    "ExecuteTime": {
     "end_time": "2025-08-17T00:30:40.170849Z",
     "start_time": "2025-08-17T00:30:40.132118Z"
    }
   },
   "cell_type": "code",
   "source": [
    "# Saves both baseline and idf\n",
    "folder_path = \"herBERTScoreStateExample\"\n",
    "hbs.save_state(folder_path = folder_path)"
   ],
   "id": "ed2ee697322c61fb",
   "outputs": [
    {
     "name": "stdout",
     "output_type": "stream",
     "text": [
      "IDF saved to herBERTScoreStateExample\\idf.json\n",
      "Baseline saved to herBERTScoreStateExample\\baseline.pt\n"
     ]
    }
   ],
   "execution_count": 5
  },
  {
   "metadata": {
    "ExecuteTime": {
     "end_time": "2025-08-17T00:30:42.372773Z",
     "start_time": "2025-08-17T00:30:41.144439Z"
    }
   },
   "cell_type": "code",
   "source": [
    "# Initialize new HerBERTScore instance\n",
    "hbs_loaded = HerBERTScore()\n",
    "# Load them later without recomputation\n",
    "hbs_loaded.load_state(folder_path = folder_path)\n"
   ],
   "id": "439354e0c406c90d",
   "outputs": [
    {
     "name": "stdout",
     "output_type": "stream",
     "text": [
      "IDF loaded from herBERTScoreStateExample\\idf.json\n",
      "Baseline loaded from herBERTScoreStateExample\\baseline.pt\n"
     ]
    }
   ],
   "execution_count": 6
  },
  {
   "metadata": {
    "ExecuteTime": {
     "end_time": "2025-08-17T00:30:46.669354Z",
     "start_time": "2025-08-17T00:30:46.574840Z"
    }
   },
   "cell_type": "code",
   "source": [
    "x2 = hbs(candidate, reference)\n",
    "i, j = 3, 2\n",
    "print(f'Sentence: \"{candidate[i]}\" and sentence: \"{reference[j]}\" accuracy = {x[\"accuracy\"][i, j]}, recall = {x[\"recall\"][i, j]}, and f1_score = {x[\"f1\"][i, j]}')"
   ],
   "id": "de7933dca3900d88",
   "outputs": [
    {
     "name": "stdout",
     "output_type": "stream",
     "text": [
      "Sentence: \"Pogoda dzisiaj jest piękna\" and sentence: \"Testujemy herBERTScore\" accuracy = -0.04372621470501321, recall = -0.2406226212579045, and f1_score = -0.07400428677245109\n"
     ]
    }
   ],
   "execution_count": 7
  },
  {
   "metadata": {},
   "cell_type": "markdown",
   "source": [
    "# Summary\n",
    "\n",
    "In this notebook we:\n",
    "- Initialized **HerBERTScore** with a text dataset.\n",
    "- Computed IDF and baseline rescaling factor.\n",
    "- Compared example sentences.\n",
    "- Demonstrated saving and loading state.\n",
    "\n",
    "HerBERTScore is flexible – while we use **HerBERT + NKJP** as the default Polish setup,\n",
    "you can adapt it to **any HuggingFace transformer model** and **any text dataset**. 🚀"
   ],
   "id": "9cd35b8787fee0d7"
  }
 ],
 "metadata": {
  "kernelspec": {
   "display_name": "Python 3",
   "language": "python",
   "name": "python3"
  },
  "language_info": {
   "codemirror_mode": {
    "name": "ipython",
    "version": 2
   },
   "file_extension": ".py",
   "mimetype": "text/x-python",
   "name": "python",
   "nbconvert_exporter": "python",
   "pygments_lexer": "ipython2",
   "version": "2.7.6"
  }
 },
 "nbformat": 4,
 "nbformat_minor": 5
}
